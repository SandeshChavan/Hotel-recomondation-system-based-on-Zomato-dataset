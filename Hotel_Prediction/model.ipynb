{
 "cells": [
  {
   "cell_type": "markdown",
   "metadata": {},
   "source": [
    "# Zomato hotel's recomondation using KNN model"
   ]
  },
  {
   "cell_type": "code",
   "execution_count": 78,
   "metadata": {},
   "outputs": [],
   "source": [
    "#Importing the required libraries\n",
    "import numpy as np\n",
    "import pandas as pd\n",
    "from sklearn.model_selection import train_test_split\n",
    "from sklearn.preprocessing import StandardScaler\n",
    "from sklearn.neighbors import KNeighborsClassifier\n",
    "from sklearn.metrics import confusion_matrix\n",
    "from sklearn.metrics import f1_score\n",
    "from sklearn.metrics import accuracy_score\n",
    "import seaborn as sns\n",
    "import matplotlib.pyplot as plt\n",
    "from scipy import spatial\n",
    "import operator"
   ]
  },
  {
   "cell_type": "code",
   "execution_count": 79,
   "metadata": {},
   "outputs": [],
   "source": [
    "#Reading the data from the file\n",
    "data=pd.read_csv(r'C:\\Users\\pc\\DataScience\\KNN\\Zomato\\Zomato.csv')\n",
    "data=data[0:1000]"
   ]
  },
  {
   "cell_type": "markdown",
   "metadata": {},
   "source": [
    "## DATA PREPROCESSING"
   ]
  },
  {
   "cell_type": "code",
   "execution_count": 80,
   "metadata": {},
   "outputs": [],
   "source": [
    "#Dropping unnecessary columns\n",
    "data=data.drop(columns={'url','address','reviews_list','menu_item','dish_liked','phone','listed_in(type)','listed_in(city)'})"
   ]
  },
  {
   "cell_type": "code",
   "execution_count": 81,
   "metadata": {},
   "outputs": [],
   "source": [
    "#Renaming the columns\n",
    "data=data.rename(columns={'name':'Name','online_order':'Online','book_table':'BookTable','rate':'Rate','votes':'Votes','location':'Location','rest_type':'RestType','cuisines':'Cuisines','approx_cost(for two people)':'Cost'})"
   ]
  },
  {
   "cell_type": "code",
   "execution_count": 82,
   "metadata": {},
   "outputs": [],
   "source": [
    "#Handling the null values in Cuisines and Type\n",
    "data.Cuisines=data.Cuisines.replace(np.nan,'UnknownCuisine')\n",
    "data.RestType=data.RestType.replace(np.nan,'UnknownRestType')"
   ]
  },
  {
   "cell_type": "markdown",
   "metadata": {},
   "source": [
    "## FEATURE ENGINEERING"
   ]
  },
  {
   "cell_type": "code",
   "execution_count": 83,
   "metadata": {},
   "outputs": [],
   "source": [
    "#Check values of Location attribute\n",
    "locList=list(data.Location.unique())"
   ]
  },
  {
   "cell_type": "code",
   "execution_count": 84,
   "metadata": {},
   "outputs": [],
   "source": [
    "#Handling the Rest Type attribute\n",
    "Type=list(data.RestType)\n",
    "uniqueType=[]\n",
    "for ele in Type:\n",
    "    subList=ele.split(',')\n",
    "    for eleSub in subList:\n",
    "        eleSub=eleSub.strip()\n",
    "        if eleSub not in uniqueType:\n",
    "            uniqueType.append(eleSub)"
   ]
  },
  {
   "cell_type": "code",
   "execution_count": 85,
   "metadata": {},
   "outputs": [],
   "source": [
    "#Handling the Rest Type attribute\n",
    "Cuisines=list(data.Cuisines)\n",
    "uniqueCuisines=[]\n",
    "for ele in Cuisines:\n",
    "    subList=ele.split(',')\n",
    "    for eleSub in subList:\n",
    "        eleSub=eleSub.strip()\n",
    "        if eleSub not in uniqueCuisines:\n",
    "            uniqueCuisines.append(eleSub)"
   ]
  },
  {
   "cell_type": "code",
   "execution_count": 86,
   "metadata": {},
   "outputs": [],
   "source": [
    "#Creating the final dataset\n",
    "df=pd.DataFrame()\n",
    "df=data"
   ]
  },
  {
   "cell_type": "code",
   "execution_count": 87,
   "metadata": {},
   "outputs": [],
   "source": [
    "#Dummy encoding the columns\n",
    "df=df.drop(columns={'Location','RestType','Cuisines'})\n",
    "for types in uniqueType:\n",
    "    df[types]=np.nan\n",
    "for cuisines in uniqueCuisines:\n",
    "    df[cuisines]=np.nan"
   ]
  },
  {
   "cell_type": "code",
   "execution_count": 88,
   "metadata": {},
   "outputs": [],
   "source": [
    "dfLoc=pd.get_dummies(data['Location'])"
   ]
  },
  {
   "cell_type": "code",
   "execution_count": 89,
   "metadata": {},
   "outputs": [],
   "source": [
    "df=df.fillna(0)"
   ]
  },
  {
   "cell_type": "code",
   "execution_count": 90,
   "metadata": {},
   "outputs": [
    {
     "name": "stderr",
     "output_type": "stream",
     "text": [
      "C:\\ProgramData\\Anaconda3\\lib\\site-packages\\ipykernel_launcher.py:7: SettingWithCopyWarning: \n",
      "A value is trying to be set on a copy of a slice from a DataFrame\n",
      "\n",
      "See the caveats in the documentation: http://pandas.pydata.org/pandas-docs/stable/user_guide/indexing.html#returning-a-view-versus-a-copy\n",
      "  import sys\n"
     ]
    }
   ],
   "source": [
    "#Handling the RestType Attributes\n",
    "for index in data.index:\n",
    "    ele=data.loc[index]['RestType']\n",
    "    subList=ele.split(',')\n",
    "    for eleSub in subList:\n",
    "        eleSub=eleSub.strip()\n",
    "        df[eleSub][index]=1\n",
    "        "
   ]
  },
  {
   "cell_type": "code",
   "execution_count": 91,
   "metadata": {},
   "outputs": [
    {
     "name": "stderr",
     "output_type": "stream",
     "text": [
      "C:\\ProgramData\\Anaconda3\\lib\\site-packages\\ipykernel_launcher.py:7: SettingWithCopyWarning: \n",
      "A value is trying to be set on a copy of a slice from a DataFrame\n",
      "\n",
      "See the caveats in the documentation: http://pandas.pydata.org/pandas-docs/stable/user_guide/indexing.html#returning-a-view-versus-a-copy\n",
      "  import sys\n"
     ]
    }
   ],
   "source": [
    "#Handling the RestType Attributes\n",
    "for index in data.index:\n",
    "    ele=data.loc[index]['Cuisines']\n",
    "    subList=ele.split(',')\n",
    "    for eleSub in subList:\n",
    "        eleSub=eleSub.strip()\n",
    "        df[eleSub][index]=1\n",
    "        "
   ]
  },
  {
   "cell_type": "code",
   "execution_count": 92,
   "metadata": {},
   "outputs": [],
   "source": [
    "df.BookTable=df.BookTable.eq('Yes').mul(1)\n",
    "df.Online=df.Online.eq('Yes').mul(1)"
   ]
  },
  {
   "cell_type": "code",
   "execution_count": 93,
   "metadata": {},
   "outputs": [],
   "source": [
    "df.Rate=df.Rate.replace('NEW','0/5')\n",
    "df.Rate=df.Rate.replace(0,'0/5')\n"
   ]
  },
  {
   "cell_type": "code",
   "execution_count": 94,
   "metadata": {},
   "outputs": [
    {
     "name": "stderr",
     "output_type": "stream",
     "text": [
      "C:\\ProgramData\\Anaconda3\\lib\\site-packages\\ipykernel_launcher.py:2: SettingWithCopyWarning: \n",
      "A value is trying to be set on a copy of a slice from a DataFrame\n",
      "\n",
      "See the caveats in the documentation: http://pandas.pydata.org/pandas-docs/stable/user_guide/indexing.html#returning-a-view-versus-a-copy\n",
      "  \n"
     ]
    }
   ],
   "source": [
    "for index in df.index:\n",
    "    df['Rate'][index]=float(df['Rate'][index].split(\"/\")[0])"
   ]
  },
  {
   "cell_type": "code",
   "execution_count": 95,
   "metadata": {},
   "outputs": [],
   "source": [
    "df.Cost=df.Cost.apply(lambda x: x.replace(',',''))"
   ]
  },
  {
   "cell_type": "code",
   "execution_count": 96,
   "metadata": {},
   "outputs": [],
   "source": [
    "df.Cost=df.Cost.astype('int')"
   ]
  },
  {
   "cell_type": "code",
   "execution_count": 97,
   "metadata": {},
   "outputs": [],
   "source": [
    "#Final featured and preprocessed dataset\n",
    "df=pd.concat([df,dfLoc],axis=1)"
   ]
  },
  {
   "cell_type": "code",
   "execution_count": 98,
   "metadata": {},
   "outputs": [],
   "source": [
    "df.Rate=df.Rate.astype('float')"
   ]
  },
  {
   "cell_type": "code",
   "execution_count": 99,
   "metadata": {},
   "outputs": [],
   "source": [
    "# Function to calculate distances between movies\n",
    "def ComputeDistance(a, b):\n",
    "    OnlineA= a[2]\n",
    "    OnlineB = b[2]\n",
    "    BookTableA = a[3]\n",
    "    BookTableB = b[3]\n",
    "    RateA = a[4]\n",
    "    RateB= b[4]\n",
    "    VotesA= a[5]\n",
    "    VotesB = b[5]\n",
    "    CostA=a[6]\n",
    "    CostB=b[6]\n",
    "    RestTypeA=a[7:27]\n",
    "    RestTypeB=b[7:27]\n",
    "    CuisineA=a[28:86]\n",
    "    CuisineB=b[28:86]\n",
    "    LocationA=a[87:]\n",
    "    LocationB=b[87:]\n",
    "    Online=abs(OnlineA-OnlineB)\n",
    "    BookTable=abs(BookTableA-BookTableB)\n",
    "    Rate=abs(RateA-RateB)\n",
    "    Votes=abs(VotesA-VotesB)\n",
    "    Cost=abs(CostA-CostB)\n",
    "    RestType=spatial.distance.cosine(RestTypeA,RestTypeB)\n",
    "    Cuisine=spatial.distance.cosine(CuisineA,CuisineB)\n",
    "    Location=spatial.distance.cosine(LocationA,LocationB)\n",
    "    return Online + BookTable + Rate + Votes + Cost + RestType + Cuisine + Location"
   ]
  },
  {
   "cell_type": "code",
   "execution_count": null,
   "metadata": {},
   "outputs": [],
   "source": [
    "import pandas as pd\n",
    "inputdf=pd.read_json (r'Path where you saved the JSON file\\File Name.json')\n"
   ]
  },
  {
   "cell_type": "code",
   "execution_count": 101,
   "metadata": {},
   "outputs": [],
   "source": [
    "a=['Jalsa', 1, 1, 4.1, 775, 800, 1.0, 0.0, 0.0, 0.0, 0.0, 0.0, 0.0, 0.0, 0.0, 0.0, 0.0, 0.0, 0.0, 0.0, 0.0, 0.0, 0.0, 0.0, 0.0, 0.0, 1.0, 1.0, 1.0, 0.0, 0.0, 0.0, 0.0, 0.0, 0.0, 0.0, 0.0, 0.0, 0.0, 0.0, 0.0, 0.0, 0.0, 0.0, 0.0, 0.0, 0.0, 0.0, 0.0, 0.0, 0.0, 0.0, 0.0, 0.0, 0.0, 0.0, 0.0, 0.0, 0.0, 0.0, 0.0, 0.0, 0.0, 0.0, 0.0, 0.0, 0.0, 0.0, 0.0, 0.0, 0.0, 0.0, 0.0, 0.0, 0.0, 0.0, 0.0, 0.0, 0.0, 0.0, 0.0, 0.0, 0.0, 0.0, 0.0, 0, 1, 0, 0, 0, 0, 0, 0, 0, 0, 0, 0, 0, 0, 0]\n",
    "def getNeighbors(a, K):\n",
    "    distances = []\n",
    "    for index in df.index:\n",
    "        dist = ComputeDistance(list(a), list(df.loc[index]))\n",
    "        distances.append((df['Name'][index], dist))\n",
    "    distances.sort(key=operator.itemgetter(1))\n",
    "    neighbors = []\n",
    "    for x in range(K):\n",
    "        neighbors.append(distances[x][0])\n",
    "    return neighbors\n"
   ]
  },
  {
   "cell_type": "code",
   "execution_count": 103,
   "metadata": {},
   "outputs": [],
   "source": [
    "dfNew=pd.DataFrame()\n",
    "K = 5\n",
    "neighbors = getNeighbors(a, K)\n",
    "for neighbor in neighbors:\n",
    "    row=data.loc[df.Name==neighbor]\n",
    "    dfNew=dfNew.append(row)\n",
    "dfNew=dfNew.drop_duplicates(subset=\"Name\")\n",
    "listName=[]\n",
    "for i in dfNew.index:\n",
    "    listName.append(dfNew.loc[i].to_json())\n"
   ]
  },
  {
   "cell_type": "code",
   "execution_count": 105,
   "metadata": {},
   "outputs": [
    {
     "data": {
      "text/plain": [
       "['{\"Name\":\"Jalsa\",\"Online\":\"Yes\",\"BookTable\":\"Yes\",\"Rate\":\"4.1\\\\/5\",\"Votes\":775,\"Location\":\"Banashankari\",\"RestType\":\"Casual Dining\",\"Cuisines\":\"North Indian, Mughlai, Chinese\",\"Cost\":\"800\"}',\n",
       " '{\"Name\":\"Spice Elephant\",\"Online\":\"Yes\",\"BookTable\":\"No\",\"Rate\":\"4.1\\\\/5\",\"Votes\":787,\"Location\":\"Banashankari\",\"RestType\":\"Casual Dining\",\"Cuisines\":\"Chinese, North Indian, Thai\",\"Cost\":\"800\"}',\n",
       " '{\"Name\":\"San Churro Cafe\",\"Online\":\"Yes\",\"BookTable\":\"No\",\"Rate\":\"3.8\\\\/5\",\"Votes\":918,\"Location\":\"Banashankari\",\"RestType\":\"Cafe, Casual Dining\",\"Cuisines\":\"Cafe, Mexican, Italian\",\"Cost\":\"800\"}',\n",
       " '{\"Name\":\"Addhuri Udupi Bhojana\",\"Online\":\"No\",\"BookTable\":\"No\",\"Rate\":\"3.7\\\\/5\",\"Votes\":88,\"Location\":\"Banashankari\",\"RestType\":\"Quick Bites\",\"Cuisines\":\"South Indian, North Indian\",\"Cost\":\"300\"}',\n",
       " '{\"Name\":\"Grand Village\",\"Online\":\"No\",\"BookTable\":\"No\",\"Rate\":\"3.8\\\\/5\",\"Votes\":166,\"Location\":\"Basavanagudi\",\"RestType\":\"Casual Dining\",\"Cuisines\":\"North Indian, Rajasthani\",\"Cost\":\"600\"}']"
      ]
     },
     "execution_count": 105,
     "metadata": {},
     "output_type": "execute_result"
    }
   ],
   "source": [
    "listName"
   ]
  }
 ],
 "metadata": {
  "kernelspec": {
   "display_name": "Python 3",
   "language": "python",
   "name": "python3"
  },
  "language_info": {
   "codemirror_mode": {
    "name": "ipython",
    "version": 3
   },
   "file_extension": ".py",
   "mimetype": "text/x-python",
   "name": "python",
   "nbconvert_exporter": "python",
   "pygments_lexer": "ipython3",
   "version": "3.7.6"
  }
 },
 "nbformat": 4,
 "nbformat_minor": 2
}
